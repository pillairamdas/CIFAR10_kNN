{
 "cells": [
  {
   "cell_type": "markdown",
   "metadata": {},
   "source": [
    "# Classifying CIFAR10 dataset using KNN"
   ]
  },
  {
   "cell_type": "code",
   "execution_count": null,
   "metadata": {},
   "outputs": [],
   "source": [
    "import numpy as np\n",
    "import matplotlib.pyplot as plt\n",
    "import time\n",
    "import utils.download as download\n",
    "from utils.data_utils import load_CIFAR10\n",
    "\n",
    "# Place the images in the notebook\n",
    "%matplotlib inline\n",
    "\n",
    "# set default size of plots\n",
    "plt.rcParams['figure.figsize'] = (10.0, 8.0) \n",
    "plt.rcParams['image.interpolation'] = 'nearest'\n",
    "plt.rcParams['image.cmap'] = 'gray'"
   ]
  },
  {
   "cell_type": "markdown",
   "metadata": {},
   "source": [
    "# User-defined functions"
   ]
  },
  {
   "cell_type": "code",
   "execution_count": null,
   "metadata": {},
   "outputs": [],
   "source": [
    "class KNearestNeighbor(object):\n",
    "    def __init__(self):\n",
    "        pass\n",
    "    \n",
    "    # In K-Nearest Neighbor, training means just loading the data\n",
    "    def train(self, X, y):\n",
    "        self.X_train = X\n",
    "        self.y_train = y\n",
    "    \n",
    "    # Compute the distance between data points\n",
    "    def compute_distances(self, X):\n",
    "        num_test = X.shape[0]\n",
    "        num_train = self.X_train.shape[0]\n",
    "        dist = np.sqrt(np.sum(np.square(self.X_train), axis=1) + np.sum(np.square(X), axis=1)[:, np.newaxis] - 2 * np.dot(X, self.X_train.T))\n",
    "        return dist\n",
    "    \n",
    "    # Predict the labels\n",
    "    def predict(self, X, k=1):\n",
    "        dist     = self.compute_distances(X)\n",
    "        num_test = X.shape[0]\n",
    "        y_pred   = np.zeros(num_test)\n",
    "        for i in range(num_test):\n",
    "            closest_y = []\n",
    "            \n",
    "            ind       = np.argsort(dist[i])\n",
    "            mask      = list(range(k))\n",
    "            ind       = ind[mask]\n",
    "            closest_y = self.y_train[ind]\n",
    "            \n",
    "            y_pred[i] = np.argmax(np.bincount(closest_y))\n",
    "            \n",
    "        return y_pred\n",
    "\n"
   ]
  },
  {
   "cell_type": "markdown",
   "metadata": {},
   "source": [
    "# Download the dataset if already not downloaded"
   ]
  },
  {
   "cell_type": "code",
   "execution_count": null,
   "metadata": {},
   "outputs": [],
   "source": [
    "# Download the dataset if already not downloaded\n",
    "download.maybe_download_and_extract(url=\"http://www.cs.toronto.edu/~kriz/cifar-10-python.tar.gz\", download_dir=\"./data/\")"
   ]
  },
  {
   "cell_type": "markdown",
   "metadata": {},
   "source": [
    "# Load the dataset"
   ]
  },
  {
   "cell_type": "code",
   "execution_count": null,
   "metadata": {},
   "outputs": [],
   "source": [
    "X_train, y_train, X_test, y_test = load_CIFAR10(\"./data/cifar-10-batches-py\")\n",
    "\n",
    "print(\"Number of training images: \", len(X_train))\n",
    "print(\"Number of testing images : \", len(X_test))\n",
    "print(\"Size of each image       : \", len(X_train[0]), \"x\", len(X_train[0][0]), \"x\", len(X_train[0][0][0]))"
   ]
  },
  {
   "cell_type": "markdown",
   "metadata": {},
   "source": [
    "# Visualizing some data"
   ]
  },
  {
   "cell_type": "code",
   "execution_count": null,
   "metadata": {},
   "outputs": [],
   "source": [
    "classes = ['plane', 'car', 'bird', 'cat', 'deer', 'dog', 'frog', 'horse', 'ship', 'truck']\n",
    "num_classes = len(classes)\n",
    "samples_per_class = 7\n",
    "for y, cls in enumerate(classes):\n",
    "    idxs = np.flatnonzero(y_train == y)\n",
    "    idxs = np.random.choice(idxs, samples_per_class, replace=False)\n",
    "    for i, idx in enumerate(idxs):\n",
    "        plt_idx = i * num_classes + y + 1\n",
    "        plt.subplot(samples_per_class, num_classes, plt_idx)\n",
    "        plt.imshow(X_train[idx].astype('uint8'))\n",
    "        plt.axis('off')\n",
    "        if i == 0:\n",
    "            plt.title(cls)\n",
    "plt.show()"
   ]
  },
  {
   "cell_type": "code",
   "execution_count": null,
   "metadata": {},
   "outputs": [],
   "source": [
    "# Reshape the image data into rows\n",
    "X_train = np.reshape(X_train, (X_train.shape[0], -1))\n",
    "X_test = np.reshape(X_test, (X_test.shape[0], -1))"
   ]
  },
  {
   "cell_type": "code",
   "execution_count": null,
   "metadata": {},
   "outputs": [],
   "source": [
    "classifier = KNearestNeighbor()\n",
    "classifier.train(X_train, y_train)\n",
    "y_test_pred = classifier.predict(X_test, k=5)\n",
    "\n",
    "num_correct = np.sum(y_test_pred == y_test)\n",
    "accuracy = float(num_correct) / len(X_test)\n",
    "print('Got %d / %d correct => accuracy: %f' % (num_correct, len(X_test), accuracy))"
   ]
  },
  {
   "cell_type": "markdown",
   "metadata": {},
   "source": [
    "# Perform cross validation to improve performance"
   ]
  },
  {
   "cell_type": "code",
   "execution_count": null,
   "metadata": {},
   "outputs": [],
   "source": [
    "num_folds = 5\n",
    "k_choices = [1, 3, 5, 8, 10, 12, 15, 20, 50, 100]\n",
    "X_train_folds = np.array_split(X_train, num_folds)\n",
    "y_train_folds = np.array_split(y_train, num_folds)\n",
    "\n",
    "# Dictionary to store accuracy levels for different K values\n",
    "dict_accuracy_k = {}\n",
    "\n",
    "for k in k_choices:\n",
    "    accuracy = []\n",
    "    for i in range(num_folds):\n",
    "        \n",
    "        X_train_cv = np.concatenate(np.delete(X_train_folds,i,0))\n",
    "        y_train_cv = np.concatenate(np.delete(y_train_folds,i,0))\n",
    "        X_test_cv  = X_train_folds[i]\n",
    "        y_test_cv  = y_train_folds[i]\n",
    "        \n",
    "        classifier = KNearestNeighbor()\n",
    "        classifier.train(X_train_cv, y_train_cv)\n",
    "        y_test_pred = classifier.predict(X_test_cv, k)\n",
    "        num_correct = np.sum(y_test_pred == y_test_cv)\n",
    "        accuracy.append(float(num_correct) / len(X_test_cv))\n",
    "    dict_accuracy_k[k] = accuracy"
   ]
  },
  {
   "cell_type": "code",
   "execution_count": null,
   "metadata": {},
   "outputs": [],
   "source": [
    "# Print out the computed accuracies\n",
    "for k in sorted(dict_accuracy_k):\n",
    "    for accuracy in dict_accuracy_k[k]:\n",
    "        print('k = %d, accuracy = %f' % (k, accuracy))\n",
    "\n",
    "# plot the raw observations\n",
    "for k in k_choices:\n",
    "    accuracies = dict_accuracy_k[k]\n",
    "    plt.scatter([k] * len(accuracies), accuracies)\n",
    "\n",
    "# plot the trend line with error bars that correspond to standard deviation\n",
    "accuracies_mean = np.array([np.mean(v) for k,v in sorted(dict_accuracy_k.items())])\n",
    "accuracies_std = np.array([np.std(v) for k,v in sorted(dict_accuracy_k.items())])\n",
    "plt.errorbar(k_choices, accuracies_mean, yerr=accuracies_std)\n",
    "plt.title('Cross-validation on k')\n",
    "plt.xlabel('k')\n",
    "plt.ylabel('Cross-validation accuracy')\n",
    "plt.show()"
   ]
  },
  {
   "cell_type": "code",
   "execution_count": null,
   "metadata": {},
   "outputs": [],
   "source": [
    "best_k = 1\n",
    "\n",
    "classifier = KNearestNeighbor()\n",
    "\n",
    "tic = time.time()\n",
    "classifier.train(X_train, y_train)\n",
    "toc = time.time()\n",
    "training_time = toc - tic\n",
    "\n",
    "tic = time.time()\n",
    "y_test_pred = classifier.predict(X_test, k=best_k)\n",
    "toc = time.time()\n",
    "testing_time = toc - tic\n",
    "\n",
    "# Compute and display the accuracy\n",
    "num_correct = np.sum(y_test_pred == y_test)\n",
    "accuracy = float(num_correct) / len(X_test)\n",
    "print('Got %d / %d correct => accuracy: %f' % (num_correct, len(X_test), accuracy))\n",
    "\n",
    "print('Time taken to train the data: ', round(training_time, 5), \"seconds\")\n",
    "print('Time taken to test the data : ', round(testing_time, 5), \"seconds\")"
   ]
  },
  {
   "cell_type": "code",
   "execution_count": null,
   "metadata": {},
   "outputs": [],
   "source": []
  }
 ],
 "metadata": {
  "kernelspec": {
   "display_name": "Python 3",
   "language": "python",
   "name": "python3"
  },
  "language_info": {
   "codemirror_mode": {
    "name": "ipython",
    "version": 3
   },
   "file_extension": ".py",
   "mimetype": "text/x-python",
   "name": "python",
   "nbconvert_exporter": "python",
   "pygments_lexer": "ipython3",
   "version": "3.6.5"
  }
 },
 "nbformat": 4,
 "nbformat_minor": 2
}
